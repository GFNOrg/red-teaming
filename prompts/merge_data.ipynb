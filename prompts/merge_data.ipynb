{
 "cells": [
  {
   "cell_type": "code",
   "execution_count": 1,
   "metadata": {},
   "outputs": [],
   "source": [
    "import json"
   ]
  },
  {
   "cell_type": "code",
   "execution_count": 2,
   "metadata": {},
   "outputs": [],
   "source": [
    "with open(\"./safety_only_data_Instructions.json\") as f:\n",
    "    data = json.load(f)\n",
    "    instructions = [x[\"instruction\"] for x in data]"
   ]
  },
  {
   "cell_type": "code",
   "execution_count": 3,
   "metadata": {},
   "outputs": [
    {
     "data": {
      "text/plain": [
       "3003"
      ]
     },
     "execution_count": 3,
     "metadata": {},
     "output_type": "execute_result"
    }
   ],
   "source": [
    "with open(\"advbench.txt\", \"r\") as f:\n",
    "    for line in f:\n",
    "        instructions.append(line.strip())\n",
    "\n",
    "len(instructions)"
   ]
  },
  {
   "cell_type": "code",
   "execution_count": 4,
   "metadata": {},
   "outputs": [],
   "source": [
    "json_dict = [{\"instruction\": x} for x in instructions]\n",
    "with open(\"sft_dataset.json\", \"w\") as f:\n",
    "    json.dump(json_dict, f, indent=2)"
   ]
  }
 ],
 "metadata": {
  "interpreter": {
   "hash": "c22027a34336fd7a6b9f7329c62307c4ff0bed7714aabeebc2e0c1775b816b4d"
  },
  "kernelspec": {
   "display_name": "Python 3.11.8 ('vllm')",
   "language": "python",
   "name": "python3"
  },
  "language_info": {
   "codemirror_mode": {
    "name": "ipython",
    "version": 3
   },
   "file_extension": ".py",
   "mimetype": "text/x-python",
   "name": "python",
   "nbconvert_exporter": "python",
   "pygments_lexer": "ipython3",
   "version": "3.11.8"
  },
  "orig_nbformat": 4
 },
 "nbformat": 4,
 "nbformat_minor": 2
}
